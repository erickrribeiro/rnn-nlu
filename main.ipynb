{
 "cells": [
  {
   "cell_type": "code",
   "execution_count": 9,
   "metadata": {},
   "outputs": [],
   "source": []
  },
  {
   "cell_type": "code",
   "execution_count": null,
   "metadata": {},
   "outputs": [],
   "source": [
    "%%bash\n",
    "rm -rf new_model_atis/\n",
    "\n",
    "data_dir=data/ATIS_samples\n",
    "model_dir=new_model_atis\n",
    "max_sequence_length=50  # max length for train/valid/test sequence\n",
    "task=joint  # available options: intent; tagging; joint\n",
    "bidirectional_rnn=True  # available options: True; False\n",
    "use_attention=true # available options: True; False\n",
    "\n",
    "python run_multi-task_rnn.py --data_dir $data_dir \\\n",
    "      --train_dir   $model_dir\\\n",
    "      --max_sequence_length $max_sequence_length \\\n",
    "      --task $task \\\n",
    "      --bidirectional_rnn $bidirectional_rnn \\\n",
    "      --use_attention $use_attention"
   ]
  },
  {
   "cell_type": "code",
   "execution_count": null,
   "metadata": {},
   "outputs": [],
   "source": []
  }
 ],
 "metadata": {
  "kernelspec": {
   "display_name": "Python 3",
   "language": "python",
   "name": "python3"
  },
  "language_info": {
   "codemirror_mode": {
    "name": "ipython",
    "version": 3
   },
   "file_extension": ".py",
   "mimetype": "text/x-python",
   "name": "python",
   "nbconvert_exporter": "python",
   "pygments_lexer": "ipython3",
   "version": "3.6.8"
  }
 },
 "nbformat": 4,
 "nbformat_minor": 2
}
